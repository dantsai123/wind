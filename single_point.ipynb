{
 "metadata": {
  "language_info": {
   "codemirror_mode": {
    "name": "ipython",
    "version": 3
   },
   "file_extension": ".py",
   "mimetype": "text/x-python",
   "name": "python",
   "nbconvert_exporter": "python",
   "pygments_lexer": "ipython3",
   "version": "3.8.10"
  },
  "orig_nbformat": 2,
  "kernelspec": {
   "name": "python3810jvsc74a57bd07d680420cabc1d5907ec505c8e2161abdc03b7d7f5f1d348ea96ee844b0f3c2b",
   "display_name": "Python 3.8.10 64-bit ('wind': conda)"
  }
 },
 "nbformat": 4,
 "nbformat_minor": 2,
 "cells": [
  {
   "cell_type": "code",
   "execution_count": 1,
   "metadata": {},
   "outputs": [],
   "source": [
    "import numpy as np\n",
    "import matplotlib.pyplot as plt\n",
    "import data\n",
    "from data import DURATION, WIDTH, HEIGHT\n"
   ]
  },
  {
   "cell_type": "code",
   "execution_count": 4,
   "metadata": {},
   "outputs": [],
   "source": [
    "input_field_names = [\"psl\", \"vas\", \"sfcWind\"]\n",
    "d = len(input_field_names)\n",
    "input_fields = [data.load_field(name)[1] for name in input_field_names]\n",
    "all_inputs = np.concatenate([f.values for f in input_fields], axis=3)\n",
    "all_inputs = all_inputs.reshape(DURATION, HEIGHT, WIDTH, d)\n",
    "\n",
    "_, wsgsmax_field = data.load_field(\"wsgsmax\")\n",
    "all_wsgsmax = wsgsmax_field.values.reshape(DURATION, HEIGHT, WIDTH)\n",
    "\n",
    "time = np.arange(500, 500 + 720, 1)\n",
    "x = 40\n",
    "y = 50\n",
    "\n",
    "inputs = all_inputs[time, y, x, :]\n",
    "wsgsmax = all_wsgsmax[time, y, x]"
   ]
  },
  {
   "cell_type": "code",
   "execution_count": null,
   "metadata": {},
   "outputs": [],
   "source": [
    "fig, axes = plt.subplots(len(input_field_names))\n",
    "for i, (name, ax) in enumerate(zip(input_field_names, axes)):\n",
    "    ax.scatter(inputs[:, i], wsgsmax)\n",
    "    ax.set_ylabel(name)\n",
    "    ax.set_xlabel(\"wsgsmax\")\n",
    "plt.show()"
   ]
  }
 ]
}